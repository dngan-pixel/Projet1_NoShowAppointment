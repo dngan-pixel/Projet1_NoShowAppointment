{
 "cells": [
  {
   "cell_type": "markdown",
   "id": "d123b7e4",
   "metadata": {},
   "source": [
    "# Project: Investigate a Dataset - No-show appointments\n"
   ]
  },
  {
   "cell_type": "markdown",
   "id": "ee6bf77a",
   "metadata": {},
   "source": [
    "## Table of Contents\n",
    "<ul>\n",
    "<li><a href=\"#intro\">Introduction</a></li>\n",
    "<li><a href=\"#wrangling\">Préparation des donnees</a></li>\n",
    "<li><a href=\"#eda\">Exploration des données</a></li>\n",
    "<li><a href=\"#conclusions\">Conclusions</a></li>\n",
    "<li><a href=\"#Limitations\">Limitations</a></li>\n",
    "<li><a href=\"#References\">References</a></li>  \n",
    "</ul>"
   ]
  },
  {
   "cell_type": "markdown",
   "id": "f3a6b62f",
   "metadata": {},
   "source": [
    "## Introduction"
   ]
  },
  {
   "cell_type": "markdown",
   "id": "b2e114c2",
   "metadata": {},
   "source": [
    "###  Description des données\n",
    "L'ensemble des données a étudier est appelé No-show appointements.Cet ensemble de données recueille des information sur 100.000 rendez-vous au Brésil et se concentre sur la question de savoir si les patients se présentent ou non à leur rendez-vous. Un certain nombre de caractéristiques concernant le patient sont incluses dans chaque rangée.L'ensemble des données au premier regards comporte quatorze(14) attributs dont les details sont définis dans les lignes suivantes:\n",
    "\n",
    "**PatientID**:Numéro d'identification unique de chaque patients\n",
    "\n",
    "**AppointmentID**:Numéro d'identification du rendez-vous\n",
    "\n",
    "**Gender**:Donne le sexe du patient\n",
    "\n",
    "**Scheduledday**:Le jour du rendez-vous du patient\n",
    "\n",
    "**Appointmentday**:Donne le jour du rendez-vous du patient\n",
    "\n",
    "**Age**:Donne l'age du patient\n",
    "\n",
    "**Neighbourhood**:Donne la localisation de l'hopital\n",
    "\n",
    "**Scholarship**:Indique si oui ou non Le patient est inscrit à l'aide sociale brésilienne\n",
    "\n",
    "**Hipertension**:Si oui ou non le patient est hypertendu\n",
    "\n",
    "**Diabetes**:Si oui ou non le patient souffre de diabete\n",
    "\n",
    "**Alcoholism**:Si oui ou non le patient est alcoolique\n",
    "\n",
    "**Handcap**:Si oui ou non le patient est un handicapé\n",
    "\n",
    "**SMS_received**:Le nombre de sms recu par le patient allant de 1....n\n",
    "\n",
    "**No-show**:Indique si Oui ou Non le patient s'est présenté au rendez-vous\n",
    "\n"
   ]
  },
  {
   "cell_type": "markdown",
   "id": "1bb012d4",
   "metadata": {},
   "source": [
    "### Questions:\n",
    "\n",
    "**Q1**:Quels sont les caractérisques les plus importantes pour predire si le patient sera ou pas à son rendez-vous?\n",
    "\n",
    "**Q2**:Les patients inscrit à l'aide sociale respect-ils leurs rendez-vous?\n",
    "\n",
    "**Q3**:Les patients souffrant de maladies cardiovasculaires(Hypertension,diabete) respectent-ils leur rendez-vous?\n",
    "\n",
    "**Q4**:Quel est l'incidence des relance par sms sur la présence du patient au rendez-vous?\n",
    "\n",
    "**Q5**:Quel est le sexe(homme ou femme) respectent-ils le plus leur rendez-Vous?\n",
    "\n",
    "\n"
   ]
  },
  {
   "cell_type": "code",
   "execution_count": 1,
   "id": "99cd387c",
   "metadata": {},
   "outputs": [],
   "source": [
    "# Chargement des packages utiles à notre analyse\n",
    "import pandas as pd\n",
    "import numpy as np\n",
    "import matplotlib.pyplot as plt\n",
    "import seaborn as sbn\n",
    "%matplotlib inline"
   ]
  },
  {
   "cell_type": "markdown",
   "id": "1d920b86",
   "metadata": {},
   "source": [
    "## Préparation des données\n",
    "\n",
    "Il s'agit dans cette section de recueillir dans un premier temps les donnees en suite de les evaluer afin de nous preparer à les nettoyer."
   ]
  },
  {
   "cell_type": "markdown",
   "id": "b15aa484",
   "metadata": {},
   "source": [
    "### Evaluation des données"
   ]
  },
  {
   "cell_type": "code",
   "execution_count": 2,
   "id": "56b8773e",
   "metadata": {},
   "outputs": [
    {
     "data": {
      "text/html": [
       "<div>\n",
       "<style scoped>\n",
       "    .dataframe tbody tr th:only-of-type {\n",
       "        vertical-align: middle;\n",
       "    }\n",
       "\n",
       "    .dataframe tbody tr th {\n",
       "        vertical-align: top;\n",
       "    }\n",
       "\n",
       "    .dataframe thead th {\n",
       "        text-align: right;\n",
       "    }\n",
       "</style>\n",
       "<table border=\"1\" class=\"dataframe\">\n",
       "  <thead>\n",
       "    <tr style=\"text-align: right;\">\n",
       "      <th></th>\n",
       "      <th>PatientId</th>\n",
       "      <th>AppointmentID</th>\n",
       "      <th>Gender</th>\n",
       "      <th>ScheduledDay</th>\n",
       "      <th>AppointmentDay</th>\n",
       "      <th>Age</th>\n",
       "      <th>Neighbourhood</th>\n",
       "      <th>Scholarship</th>\n",
       "      <th>Hipertension</th>\n",
       "      <th>Diabetes</th>\n",
       "      <th>Alcoholism</th>\n",
       "      <th>Handcap</th>\n",
       "      <th>SMS_received</th>\n",
       "      <th>No-show</th>\n",
       "    </tr>\n",
       "  </thead>\n",
       "  <tbody>\n",
       "    <tr>\n",
       "      <th>0</th>\n",
       "      <td>2.987250e+13</td>\n",
       "      <td>5642903</td>\n",
       "      <td>F</td>\n",
       "      <td>2016-04-29T18:38:08Z</td>\n",
       "      <td>2016-04-29T00:00:00Z</td>\n",
       "      <td>62</td>\n",
       "      <td>JARDIM DA PENHA</td>\n",
       "      <td>0</td>\n",
       "      <td>1</td>\n",
       "      <td>0</td>\n",
       "      <td>0</td>\n",
       "      <td>0</td>\n",
       "      <td>0</td>\n",
       "      <td>No</td>\n",
       "    </tr>\n",
       "    <tr>\n",
       "      <th>1</th>\n",
       "      <td>5.589978e+14</td>\n",
       "      <td>5642503</td>\n",
       "      <td>M</td>\n",
       "      <td>2016-04-29T16:08:27Z</td>\n",
       "      <td>2016-04-29T00:00:00Z</td>\n",
       "      <td>56</td>\n",
       "      <td>JARDIM DA PENHA</td>\n",
       "      <td>0</td>\n",
       "      <td>0</td>\n",
       "      <td>0</td>\n",
       "      <td>0</td>\n",
       "      <td>0</td>\n",
       "      <td>0</td>\n",
       "      <td>No</td>\n",
       "    </tr>\n",
       "    <tr>\n",
       "      <th>2</th>\n",
       "      <td>4.262962e+12</td>\n",
       "      <td>5642549</td>\n",
       "      <td>F</td>\n",
       "      <td>2016-04-29T16:19:04Z</td>\n",
       "      <td>2016-04-29T00:00:00Z</td>\n",
       "      <td>62</td>\n",
       "      <td>MATA DA PRAIA</td>\n",
       "      <td>0</td>\n",
       "      <td>0</td>\n",
       "      <td>0</td>\n",
       "      <td>0</td>\n",
       "      <td>0</td>\n",
       "      <td>0</td>\n",
       "      <td>No</td>\n",
       "    </tr>\n",
       "    <tr>\n",
       "      <th>3</th>\n",
       "      <td>8.679512e+11</td>\n",
       "      <td>5642828</td>\n",
       "      <td>F</td>\n",
       "      <td>2016-04-29T17:29:31Z</td>\n",
       "      <td>2016-04-29T00:00:00Z</td>\n",
       "      <td>8</td>\n",
       "      <td>PONTAL DE CAMBURI</td>\n",
       "      <td>0</td>\n",
       "      <td>0</td>\n",
       "      <td>0</td>\n",
       "      <td>0</td>\n",
       "      <td>0</td>\n",
       "      <td>0</td>\n",
       "      <td>No</td>\n",
       "    </tr>\n",
       "    <tr>\n",
       "      <th>4</th>\n",
       "      <td>8.841186e+12</td>\n",
       "      <td>5642494</td>\n",
       "      <td>F</td>\n",
       "      <td>2016-04-29T16:07:23Z</td>\n",
       "      <td>2016-04-29T00:00:00Z</td>\n",
       "      <td>56</td>\n",
       "      <td>JARDIM DA PENHA</td>\n",
       "      <td>0</td>\n",
       "      <td>1</td>\n",
       "      <td>1</td>\n",
       "      <td>0</td>\n",
       "      <td>0</td>\n",
       "      <td>0</td>\n",
       "      <td>No</td>\n",
       "    </tr>\n",
       "  </tbody>\n",
       "</table>\n",
       "</div>"
      ],
      "text/plain": [
       "      PatientId  AppointmentID Gender          ScheduledDay  \\\n",
       "0  2.987250e+13        5642903      F  2016-04-29T18:38:08Z   \n",
       "1  5.589978e+14        5642503      M  2016-04-29T16:08:27Z   \n",
       "2  4.262962e+12        5642549      F  2016-04-29T16:19:04Z   \n",
       "3  8.679512e+11        5642828      F  2016-04-29T17:29:31Z   \n",
       "4  8.841186e+12        5642494      F  2016-04-29T16:07:23Z   \n",
       "\n",
       "         AppointmentDay  Age      Neighbourhood  Scholarship  Hipertension  \\\n",
       "0  2016-04-29T00:00:00Z   62    JARDIM DA PENHA            0             1   \n",
       "1  2016-04-29T00:00:00Z   56    JARDIM DA PENHA            0             0   \n",
       "2  2016-04-29T00:00:00Z   62      MATA DA PRAIA            0             0   \n",
       "3  2016-04-29T00:00:00Z    8  PONTAL DE CAMBURI            0             0   \n",
       "4  2016-04-29T00:00:00Z   56    JARDIM DA PENHA            0             1   \n",
       "\n",
       "   Diabetes  Alcoholism  Handcap  SMS_received No-show  \n",
       "0         0           0        0             0      No  \n",
       "1         0           0        0             0      No  \n",
       "2         0           0        0             0      No  \n",
       "3         0           0        0             0      No  \n",
       "4         1           0        0             0      No  "
      ]
     },
     "execution_count": 2,
     "metadata": {},
     "output_type": "execute_result"
    }
   ],
   "source": [
    "#Téléchargement du fichier des données\n",
    "df_no=pd.read_csv('noshowappointments.csv')\n",
    "df_no.head()"
   ]
  },
  {
   "cell_type": "code",
   "execution_count": 3,
   "id": "14875e5a",
   "metadata": {},
   "outputs": [
    {
     "data": {
      "text/html": [
       "<div>\n",
       "<style scoped>\n",
       "    .dataframe tbody tr th:only-of-type {\n",
       "        vertical-align: middle;\n",
       "    }\n",
       "\n",
       "    .dataframe tbody tr th {\n",
       "        vertical-align: top;\n",
       "    }\n",
       "\n",
       "    .dataframe thead th {\n",
       "        text-align: right;\n",
       "    }\n",
       "</style>\n",
       "<table border=\"1\" class=\"dataframe\">\n",
       "  <thead>\n",
       "    <tr style=\"text-align: right;\">\n",
       "      <th></th>\n",
       "      <th>PatientId</th>\n",
       "      <th>AppointmentID</th>\n",
       "      <th>Gender</th>\n",
       "      <th>ScheduledDay</th>\n",
       "      <th>AppointmentDay</th>\n",
       "      <th>Age</th>\n",
       "      <th>Neighbourhood</th>\n",
       "      <th>Scholarship</th>\n",
       "      <th>Hipertension</th>\n",
       "      <th>Diabetes</th>\n",
       "      <th>Alcoholism</th>\n",
       "      <th>Handcap</th>\n",
       "      <th>SMS_received</th>\n",
       "      <th>No-show</th>\n",
       "    </tr>\n",
       "  </thead>\n",
       "  <tbody>\n",
       "    <tr>\n",
       "      <th>110522</th>\n",
       "      <td>2.572134e+12</td>\n",
       "      <td>5651768</td>\n",
       "      <td>F</td>\n",
       "      <td>2016-05-03T09:15:35Z</td>\n",
       "      <td>2016-06-07T00:00:00Z</td>\n",
       "      <td>56</td>\n",
       "      <td>MARIA ORTIZ</td>\n",
       "      <td>0</td>\n",
       "      <td>0</td>\n",
       "      <td>0</td>\n",
       "      <td>0</td>\n",
       "      <td>0</td>\n",
       "      <td>1</td>\n",
       "      <td>No</td>\n",
       "    </tr>\n",
       "    <tr>\n",
       "      <th>110523</th>\n",
       "      <td>3.596266e+12</td>\n",
       "      <td>5650093</td>\n",
       "      <td>F</td>\n",
       "      <td>2016-05-03T07:27:33Z</td>\n",
       "      <td>2016-06-07T00:00:00Z</td>\n",
       "      <td>51</td>\n",
       "      <td>MARIA ORTIZ</td>\n",
       "      <td>0</td>\n",
       "      <td>0</td>\n",
       "      <td>0</td>\n",
       "      <td>0</td>\n",
       "      <td>0</td>\n",
       "      <td>1</td>\n",
       "      <td>No</td>\n",
       "    </tr>\n",
       "    <tr>\n",
       "      <th>110524</th>\n",
       "      <td>1.557663e+13</td>\n",
       "      <td>5630692</td>\n",
       "      <td>F</td>\n",
       "      <td>2016-04-27T16:03:52Z</td>\n",
       "      <td>2016-06-07T00:00:00Z</td>\n",
       "      <td>21</td>\n",
       "      <td>MARIA ORTIZ</td>\n",
       "      <td>0</td>\n",
       "      <td>0</td>\n",
       "      <td>0</td>\n",
       "      <td>0</td>\n",
       "      <td>0</td>\n",
       "      <td>1</td>\n",
       "      <td>No</td>\n",
       "    </tr>\n",
       "    <tr>\n",
       "      <th>110525</th>\n",
       "      <td>9.213493e+13</td>\n",
       "      <td>5630323</td>\n",
       "      <td>F</td>\n",
       "      <td>2016-04-27T15:09:23Z</td>\n",
       "      <td>2016-06-07T00:00:00Z</td>\n",
       "      <td>38</td>\n",
       "      <td>MARIA ORTIZ</td>\n",
       "      <td>0</td>\n",
       "      <td>0</td>\n",
       "      <td>0</td>\n",
       "      <td>0</td>\n",
       "      <td>0</td>\n",
       "      <td>1</td>\n",
       "      <td>No</td>\n",
       "    </tr>\n",
       "    <tr>\n",
       "      <th>110526</th>\n",
       "      <td>3.775115e+14</td>\n",
       "      <td>5629448</td>\n",
       "      <td>F</td>\n",
       "      <td>2016-04-27T13:30:56Z</td>\n",
       "      <td>2016-06-07T00:00:00Z</td>\n",
       "      <td>54</td>\n",
       "      <td>MARIA ORTIZ</td>\n",
       "      <td>0</td>\n",
       "      <td>0</td>\n",
       "      <td>0</td>\n",
       "      <td>0</td>\n",
       "      <td>0</td>\n",
       "      <td>1</td>\n",
       "      <td>No</td>\n",
       "    </tr>\n",
       "  </tbody>\n",
       "</table>\n",
       "</div>"
      ],
      "text/plain": [
       "           PatientId  AppointmentID Gender          ScheduledDay  \\\n",
       "110522  2.572134e+12        5651768      F  2016-05-03T09:15:35Z   \n",
       "110523  3.596266e+12        5650093      F  2016-05-03T07:27:33Z   \n",
       "110524  1.557663e+13        5630692      F  2016-04-27T16:03:52Z   \n",
       "110525  9.213493e+13        5630323      F  2016-04-27T15:09:23Z   \n",
       "110526  3.775115e+14        5629448      F  2016-04-27T13:30:56Z   \n",
       "\n",
       "              AppointmentDay  Age Neighbourhood  Scholarship  Hipertension  \\\n",
       "110522  2016-06-07T00:00:00Z   56   MARIA ORTIZ            0             0   \n",
       "110523  2016-06-07T00:00:00Z   51   MARIA ORTIZ            0             0   \n",
       "110524  2016-06-07T00:00:00Z   21   MARIA ORTIZ            0             0   \n",
       "110525  2016-06-07T00:00:00Z   38   MARIA ORTIZ            0             0   \n",
       "110526  2016-06-07T00:00:00Z   54   MARIA ORTIZ            0             0   \n",
       "\n",
       "        Diabetes  Alcoholism  Handcap  SMS_received No-show  \n",
       "110522         0           0        0             1      No  \n",
       "110523         0           0        0             1      No  \n",
       "110524         0           0        0             1      No  \n",
       "110525         0           0        0             1      No  \n",
       "110526         0           0        0             1      No  "
      ]
     },
     "execution_count": 3,
     "metadata": {},
     "output_type": "execute_result"
    }
   ],
   "source": [
    "df_no.tail()"
   ]
  },
  {
   "cell_type": "code",
   "execution_count": 4,
   "id": "77e4ccae",
   "metadata": {},
   "outputs": [
    {
     "data": {
      "text/plain": [
       "(110527, 14)"
      ]
     },
     "execution_count": 4,
     "metadata": {},
     "output_type": "execute_result"
    }
   ],
   "source": [
    "#Nombre d'echantillon et de colonnes dans l'ensemble des données\n",
    "df_no.shape"
   ]
  },
  {
   "cell_type": "markdown",
   "id": "86d0fff0",
   "metadata": {},
   "source": [
    "**Inspection du nombre de valeurs nulles**"
   ]
  },
  {
   "cell_type": "code",
   "execution_count": 5,
   "id": "33f675dc",
   "metadata": {},
   "outputs": [
    {
     "name": "stdout",
     "output_type": "stream",
     "text": [
      "<class 'pandas.core.frame.DataFrame'>\n",
      "RangeIndex: 110527 entries, 0 to 110526\n",
      "Data columns (total 14 columns):\n",
      " #   Column          Non-Null Count   Dtype  \n",
      "---  ------          --------------   -----  \n",
      " 0   PatientId       110527 non-null  float64\n",
      " 1   AppointmentID   110527 non-null  int64  \n",
      " 2   Gender          110527 non-null  object \n",
      " 3   ScheduledDay    110527 non-null  object \n",
      " 4   AppointmentDay  110527 non-null  object \n",
      " 5   Age             110527 non-null  int64  \n",
      " 6   Neighbourhood   110527 non-null  object \n",
      " 7   Scholarship     110527 non-null  int64  \n",
      " 8   Hipertension    110527 non-null  int64  \n",
      " 9   Diabetes        110527 non-null  int64  \n",
      " 10  Alcoholism      110527 non-null  int64  \n",
      " 11  Handcap         110527 non-null  int64  \n",
      " 12  SMS_received    110527 non-null  int64  \n",
      " 13  No-show         110527 non-null  object \n",
      "dtypes: float64(1), int64(8), object(5)\n",
      "memory usage: 11.8+ MB\n"
     ]
    }
   ],
   "source": [
    "#Caracteristiques avec les valeurs manquantes\n",
    "df_no.info()"
   ]
  },
  {
   "cell_type": "markdown",
   "id": "c661da90",
   "metadata": {},
   "source": [
    "Un apercu rapide nous montre qu'il n'ya aucune valeur manquante dans les données vérifions cela par la commande suivante:"
   ]
  },
  {
   "cell_type": "code",
   "execution_count": 6,
   "id": "65da9aa6",
   "metadata": {},
   "outputs": [
    {
     "data": {
      "text/plain": [
       "PatientId         0\n",
       "AppointmentID     0\n",
       "Gender            0\n",
       "ScheduledDay      0\n",
       "AppointmentDay    0\n",
       "Age               0\n",
       "Neighbourhood     0\n",
       "Scholarship       0\n",
       "Hipertension      0\n",
       "Diabetes          0\n",
       "Alcoholism        0\n",
       "Handcap           0\n",
       "SMS_received      0\n",
       "No-show           0\n",
       "dtype: int64"
      ]
     },
     "execution_count": 6,
     "metadata": {},
     "output_type": "execute_result"
    }
   ],
   "source": [
    "# Nombre de ligne snon nulls par colonnes\n",
    "df_no.isna().sum()"
   ]
  },
  {
   "cell_type": "markdown",
   "id": "18dbe530",
   "metadata": {},
   "source": [
    "Aucune ligne n'a de valeurs nulles quelque soit l'attribut"
   ]
  },
  {
   "cell_type": "markdown",
   "id": "a9ff8b64",
   "metadata": {},
   "source": [
    "**Inspection du nombre lignes doubles**"
   ]
  },
  {
   "cell_type": "code",
   "execution_count": 7,
   "id": "5a27cc48",
   "metadata": {},
   "outputs": [
    {
     "data": {
      "text/plain": [
       "0"
      ]
     },
     "execution_count": 7,
     "metadata": {},
     "output_type": "execute_result"
    }
   ],
   "source": [
    "#Nombre de lignes dupliquées\n",
    "df_no.duplicated().sum()"
   ]
  },
  {
   "cell_type": "markdown",
   "id": "27933584",
   "metadata": {},
   "source": [
    "Aucune des lignes n'est dupliquée"
   ]
  },
  {
   "cell_type": "markdown",
   "id": "cd28c369",
   "metadata": {},
   "source": [
    "**Inspection des types de donnees**"
   ]
  },
  {
   "cell_type": "code",
   "execution_count": 8,
   "id": "80f3da8d",
   "metadata": {},
   "outputs": [
    {
     "data": {
      "text/plain": [
       "PatientId         float64\n",
       "AppointmentID       int64\n",
       "Gender             object\n",
       "ScheduledDay       object\n",
       "AppointmentDay     object\n",
       "Age                 int64\n",
       "Neighbourhood      object\n",
       "Scholarship         int64\n",
       "Hipertension        int64\n",
       "Diabetes            int64\n",
       "Alcoholism          int64\n",
       "Handcap             int64\n",
       "SMS_received        int64\n",
       "No-show            object\n",
       "dtype: object"
      ]
     },
     "execution_count": 8,
     "metadata": {},
     "output_type": "execute_result"
    }
   ],
   "source": [
    "#Types par attributs\n",
    "df_no.dtypes"
   ]
  },
  {
   "cell_type": "markdown",
   "id": "f400be83",
   "metadata": {},
   "source": [
    "  Constat:\n",
    "\n",
    " **PatientID**,**Neighbourhood**,**AppointmentDay**,**AppointmentID**,**Age**,:Sont des attributs non pertinents pour notre analyse dont seront supprimees.\n",
    "\n",
    "**Scheluledday**:Est de type object au lieu de date time en plus l'heure n'est pas pertinent dans notre analyse en plus il est non pertinent pour notre analyse.\n",
    "\n",
    "Et il sera question pour nous de renommer les colonnes en francais.Donc dans la partie Nettoyage des donnees nous ferons les operations suivantes:**Suppression des attributs non pertinents pour l'analyse**(1),**Renommer les attributs des colonnes en francais**(2),**Correction des types**(3),et enfin **verifier la coherence des donnees**(4)\n"
   ]
  },
  {
   "cell_type": "markdown",
   "id": "5316222b",
   "metadata": {},
   "source": [
    "## Nettoyage des donnees"
   ]
  },
  {
   "cell_type": "markdown",
   "id": "df8af786",
   "metadata": {},
   "source": [
    "### Correction  des donnees"
   ]
  },
  {
   "cell_type": "markdown",
   "id": "b4dd4ae5",
   "metadata": {},
   "source": [
    "**1. Suppression des attributs non pertinents pour l'analyse**"
   ]
  },
  {
   "cell_type": "code",
   "execution_count": 9,
   "id": "ab745f37",
   "metadata": {},
   "outputs": [],
   "source": [
    "#Suppression des attributs ScheduledDay,Neighbourhood,Neighbourhood,Age,\n",
    "df_no.drop(['ScheduledDay','Neighbourhood','PatientId','Age','AppointmentDay','AppointmentID'],axis=1,inplace=True)"
   ]
  },
  {
   "cell_type": "code",
   "execution_count": 10,
   "id": "aba4f2d0",
   "metadata": {},
   "outputs": [
    {
     "data": {
      "text/html": [
       "<div>\n",
       "<style scoped>\n",
       "    .dataframe tbody tr th:only-of-type {\n",
       "        vertical-align: middle;\n",
       "    }\n",
       "\n",
       "    .dataframe tbody tr th {\n",
       "        vertical-align: top;\n",
       "    }\n",
       "\n",
       "    .dataframe thead th {\n",
       "        text-align: right;\n",
       "    }\n",
       "</style>\n",
       "<table border=\"1\" class=\"dataframe\">\n",
       "  <thead>\n",
       "    <tr style=\"text-align: right;\">\n",
       "      <th></th>\n",
       "      <th>Gender</th>\n",
       "      <th>Scholarship</th>\n",
       "      <th>Hipertension</th>\n",
       "      <th>Diabetes</th>\n",
       "      <th>Alcoholism</th>\n",
       "      <th>Handcap</th>\n",
       "      <th>SMS_received</th>\n",
       "      <th>No-show</th>\n",
       "    </tr>\n",
       "  </thead>\n",
       "  <tbody>\n",
       "    <tr>\n",
       "      <th>0</th>\n",
       "      <td>F</td>\n",
       "      <td>0</td>\n",
       "      <td>1</td>\n",
       "      <td>0</td>\n",
       "      <td>0</td>\n",
       "      <td>0</td>\n",
       "      <td>0</td>\n",
       "      <td>No</td>\n",
       "    </tr>\n",
       "    <tr>\n",
       "      <th>1</th>\n",
       "      <td>M</td>\n",
       "      <td>0</td>\n",
       "      <td>0</td>\n",
       "      <td>0</td>\n",
       "      <td>0</td>\n",
       "      <td>0</td>\n",
       "      <td>0</td>\n",
       "      <td>No</td>\n",
       "    </tr>\n",
       "    <tr>\n",
       "      <th>2</th>\n",
       "      <td>F</td>\n",
       "      <td>0</td>\n",
       "      <td>0</td>\n",
       "      <td>0</td>\n",
       "      <td>0</td>\n",
       "      <td>0</td>\n",
       "      <td>0</td>\n",
       "      <td>No</td>\n",
       "    </tr>\n",
       "    <tr>\n",
       "      <th>3</th>\n",
       "      <td>F</td>\n",
       "      <td>0</td>\n",
       "      <td>0</td>\n",
       "      <td>0</td>\n",
       "      <td>0</td>\n",
       "      <td>0</td>\n",
       "      <td>0</td>\n",
       "      <td>No</td>\n",
       "    </tr>\n",
       "    <tr>\n",
       "      <th>4</th>\n",
       "      <td>F</td>\n",
       "      <td>0</td>\n",
       "      <td>1</td>\n",
       "      <td>1</td>\n",
       "      <td>0</td>\n",
       "      <td>0</td>\n",
       "      <td>0</td>\n",
       "      <td>No</td>\n",
       "    </tr>\n",
       "  </tbody>\n",
       "</table>\n",
       "</div>"
      ],
      "text/plain": [
       "  Gender  Scholarship  Hipertension  Diabetes  Alcoholism  Handcap  \\\n",
       "0      F            0             1         0           0        0   \n",
       "1      M            0             0         0           0        0   \n",
       "2      F            0             0         0           0        0   \n",
       "3      F            0             0         0           0        0   \n",
       "4      F            0             1         1           0        0   \n",
       "\n",
       "   SMS_received No-show  \n",
       "0             0      No  \n",
       "1             0      No  \n",
       "2             0      No  \n",
       "3             0      No  \n",
       "4             0      No  "
      ]
     },
     "execution_count": 10,
     "metadata": {},
     "output_type": "execute_result"
    }
   ],
   "source": [
    "df_no.head()"
   ]
  },
  {
   "cell_type": "markdown",
   "id": "cceafbba",
   "metadata": {},
   "source": [
    "**2. Renommer les attributs des colonnes en francais**"
   ]
  },
  {
   "cell_type": "code",
   "execution_count": 11,
   "id": "fba97de2",
   "metadata": {},
   "outputs": [],
   "source": [
    "#Renommer les attributs(Gender,Scholarship,Hipertension,Diabetes,Alcoholism,Handcap,SMS_received,No-show) en francais\n",
    "columns_no=['Sexe','bourse','Hypertendu','Diabetique','Conso_Alcool','Handicape','Sms_recu','Presence']\n",
    "df_no.columns=columns_no"
   ]
  },
  {
   "cell_type": "code",
   "execution_count": 12,
   "id": "278b3cba",
   "metadata": {},
   "outputs": [
    {
     "data": {
      "text/html": [
       "<div>\n",
       "<style scoped>\n",
       "    .dataframe tbody tr th:only-of-type {\n",
       "        vertical-align: middle;\n",
       "    }\n",
       "\n",
       "    .dataframe tbody tr th {\n",
       "        vertical-align: top;\n",
       "    }\n",
       "\n",
       "    .dataframe thead th {\n",
       "        text-align: right;\n",
       "    }\n",
       "</style>\n",
       "<table border=\"1\" class=\"dataframe\">\n",
       "  <thead>\n",
       "    <tr style=\"text-align: right;\">\n",
       "      <th></th>\n",
       "      <th>Sexe</th>\n",
       "      <th>bourse</th>\n",
       "      <th>Hypertendu</th>\n",
       "      <th>Diabetique</th>\n",
       "      <th>Conso_Alcool</th>\n",
       "      <th>Handicape</th>\n",
       "      <th>Sms_recu</th>\n",
       "      <th>Presence</th>\n",
       "    </tr>\n",
       "  </thead>\n",
       "  <tbody>\n",
       "    <tr>\n",
       "      <th>0</th>\n",
       "      <td>F</td>\n",
       "      <td>0</td>\n",
       "      <td>1</td>\n",
       "      <td>0</td>\n",
       "      <td>0</td>\n",
       "      <td>0</td>\n",
       "      <td>0</td>\n",
       "      <td>No</td>\n",
       "    </tr>\n",
       "    <tr>\n",
       "      <th>1</th>\n",
       "      <td>M</td>\n",
       "      <td>0</td>\n",
       "      <td>0</td>\n",
       "      <td>0</td>\n",
       "      <td>0</td>\n",
       "      <td>0</td>\n",
       "      <td>0</td>\n",
       "      <td>No</td>\n",
       "    </tr>\n",
       "    <tr>\n",
       "      <th>2</th>\n",
       "      <td>F</td>\n",
       "      <td>0</td>\n",
       "      <td>0</td>\n",
       "      <td>0</td>\n",
       "      <td>0</td>\n",
       "      <td>0</td>\n",
       "      <td>0</td>\n",
       "      <td>No</td>\n",
       "    </tr>\n",
       "    <tr>\n",
       "      <th>3</th>\n",
       "      <td>F</td>\n",
       "      <td>0</td>\n",
       "      <td>0</td>\n",
       "      <td>0</td>\n",
       "      <td>0</td>\n",
       "      <td>0</td>\n",
       "      <td>0</td>\n",
       "      <td>No</td>\n",
       "    </tr>\n",
       "    <tr>\n",
       "      <th>4</th>\n",
       "      <td>F</td>\n",
       "      <td>0</td>\n",
       "      <td>1</td>\n",
       "      <td>1</td>\n",
       "      <td>0</td>\n",
       "      <td>0</td>\n",
       "      <td>0</td>\n",
       "      <td>No</td>\n",
       "    </tr>\n",
       "  </tbody>\n",
       "</table>\n",
       "</div>"
      ],
      "text/plain": [
       "  Sexe  bourse  Hypertendu  Diabetique  Conso_Alcool  Handicape  Sms_recu  \\\n",
       "0    F       0           1           0             0          0         0   \n",
       "1    M       0           0           0             0          0         0   \n",
       "2    F       0           0           0             0          0         0   \n",
       "3    F       0           0           0             0          0         0   \n",
       "4    F       0           1           1             0          0         0   \n",
       "\n",
       "  Presence  \n",
       "0       No  \n",
       "1       No  \n",
       "2       No  \n",
       "3       No  \n",
       "4       No  "
      ]
     },
     "execution_count": 12,
     "metadata": {},
     "output_type": "execute_result"
    }
   ],
   "source": [
    "df_no.head()"
   ]
  },
  {
   "cell_type": "markdown",
   "id": "67758904",
   "metadata": {},
   "source": [
    "**3.verifier la coherence des donnees**"
   ]
  },
  {
   "cell_type": "code",
   "execution_count": 13,
   "id": "13fa68d4",
   "metadata": {},
   "outputs": [
    {
     "data": {
      "text/plain": [
       "Sexe            0\n",
       "bourse          0\n",
       "Hypertendu      0\n",
       "Diabetique      0\n",
       "Conso_Alcool    0\n",
       "Handicape       0\n",
       "Sms_recu        0\n",
       "Presence        0\n",
       "dtype: int64"
      ]
     },
     "execution_count": 13,
     "metadata": {},
     "output_type": "execute_result"
    }
   ],
   "source": [
    "#Existence des valeurs nulles\n",
    "df_no.isna().sum()\n"
   ]
  },
  {
   "cell_type": "code",
   "execution_count": 14,
   "id": "f420e383",
   "metadata": {},
   "outputs": [
    {
     "data": {
      "text/plain": [
       "Sexe            object\n",
       "bourse           int64\n",
       "Hypertendu       int64\n",
       "Diabetique       int64\n",
       "Conso_Alcool     int64\n",
       "Handicape        int64\n",
       "Sms_recu         int64\n",
       "Presence        object\n",
       "dtype: object"
      ]
     },
     "execution_count": 14,
     "metadata": {},
     "output_type": "execute_result"
    }
   ],
   "source": [
    "#Types des attributs\n",
    "df_no.dtypes"
   ]
  },
  {
   "cell_type": "markdown",
   "id": "9890a843",
   "metadata": {},
   "source": [
    "## Exploration des donnees"
   ]
  },
  {
   "cell_type": "markdown",
   "id": "4df54fb9",
   "metadata": {},
   "source": [
    "    Il s'agit dans cette section de faire une analyse de nos attributs individuellement(1) et d'analyser \n",
    "    les relations entre eux(2)."
   ]
  },
  {
   "cell_type": "markdown",
   "id": "bf88604b",
   "metadata": {},
   "source": [
    "**1. Analyse indivuelle de chaque attribut(Univariée)**\n",
    "\n",
    "La majorité des variables étant des variables qualitatives nous utiliserons pour se faire les histogrammes(hist) et des diagrammes en baton(bar) en pour analyser leur comportement."
   ]
  },
  {
   "cell_type": "code",
   "execution_count": 15,
   "id": "cddef690",
   "metadata": {},
   "outputs": [],
   "source": [
    "#Définition de fonction value_no qui prends en entrée une colonne(a) et renvoie chacunes des categories de la colonne ainsi que leurs fréquences\n",
    "def value_no(a):\n",
    "        \n",
    "    value=df_no[a].value_counts()\n",
    "    \n",
    "    return(value)   "
   ]
  },
  {
   "cell_type": "code",
   "execution_count": 16,
   "id": "350c4e15",
   "metadata": {},
   "outputs": [
    {
     "data": {
      "text/plain": [
       "Text(0, 0.5, 'frequence')"
      ]
     },
     "execution_count": 16,
     "metadata": {},
     "output_type": "execute_result"
    },
    {
     "data": {
      "image/png": "[encoded data removed]",
      "text/plain": [
       "<Figure size 432x288 with 1 Axes>"
      ]
     },
     "metadata": {
      "needs_background": "light"
     },
     "output_type": "display_data"
    }
   ],
   "source": [
    "#Analyse de la répartition suivant le sexe\n",
    "value_no('Sexe').plot(kind='bar')\n",
    "plt.title('repartition par sexe')\n",
    "plt.xlabel('sexe')\n",
    "plt.ylabel('frequence')"
   ]
  },
  {
   "cell_type": "markdown",
   "id": "979ec9b9",
   "metadata": {},
   "source": [
    "Dans l'echantillon choisi les femmes sont plus nombreuses que les hommes."
   ]
  },
  {
   "cell_type": "code",
   "execution_count": 17,
   "id": "e915f135",
   "metadata": {},
   "outputs": [
    {
     "data": {
      "text/plain": [
       "Text(0, 0.5, 'frequence')"
      ]
     },
     "execution_count": 17,
     "metadata": {},
     "output_type": "execute_result"
    },
    {
     "data": {
      "image/png": "[encoded data removed]",
      "text/plain": [
       "<Figure size 432x288 with 1 Axes>"
      ]
     },
     "metadata": {
      "needs_background": "light"
     },
     "output_type": "display_data"
    }
   ],
   "source": [
    "#Analyse de la répartition suivant la bourse\n",
    "value_no('bourse').plot(kind='bar')\n",
    "plt.title('repartition bourse')\n",
    "plt.xlabel('bourse')\n",
    "plt.ylabel('frequence')"
   ]
  },
  {
   "cell_type": "markdown",
   "id": "70a0502b",
   "metadata": {},
   "source": [
    "L'analyse nous montre que dans l'echantillon choisi tres peu de personnes beneficie des allocations familliales du gouvernement"
   ]
  },
  {
   "cell_type": "code",
   "execution_count": 18,
   "id": "35f2fca0",
   "metadata": {},
   "outputs": [
    {
     "data": {
      "text/plain": [
       "Text(0, 0.5, 'frequence')"
      ]
     },
     "execution_count": 18,
     "metadata": {},
     "output_type": "execute_result"
    },
    {
     "data": {
      "image/png": "[encoded data removed]",
      "text/plain": [
       "<Figure size 432x288 with 1 Axes>"
      ]
     },
     "metadata": {
      "needs_background": "light"
     },
     "output_type": "display_data"
    }
   ],
   "source": [
    "#Analyse de la répartition suivant le diabete\n",
    "value_no('Diabetique').plot(kind='bar')\n",
    "plt.title('repartition diabetique')\n",
    "plt.xlabel('diabete')\n",
    "plt.ylabel('frequence')"
   ]
  },
  {
   "cell_type": "markdown",
   "id": "d69464aa",
   "metadata": {},
   "source": [
    "Tres peu de patients etudiés souffrent de diabete"
   ]
  },
  {
   "cell_type": "code",
   "execution_count": 19,
   "id": "d253c991",
   "metadata": {},
   "outputs": [
    {
     "data": {
      "text/plain": [
       "Text(0, 0.5, 'frequence')"
      ]
     },
     "execution_count": 19,
     "metadata": {},
     "output_type": "execute_result"
    },
    {
     "data": {
      "image/png": "[encoded data removed]",
      "text/plain": [
       "<Figure size 432x288 with 1 Axes>"
      ]
     },
     "metadata": {
      "needs_background": "light"
     },
     "output_type": "display_data"
    }
   ],
   "source": [
    "#Analyse de la répartition suivant la consommation d'alcool\n",
    "value_no('Conso_Alcool').value_counts().plot(kind='bar')\n",
    "plt.title('repartition consommation alcool')\n",
    "plt.xlabel('consomation alcool')\n",
    "plt.ylabel('frequence')"
   ]
  },
  {
   "cell_type": "markdown",
   "id": "39e4e283",
   "metadata": {},
   "source": [
    "Tres peu de patients sont alcooliques dans notre échantillon"
   ]
  },
  {
   "cell_type": "code",
   "execution_count": 20,
   "id": "9b954735",
   "metadata": {},
   "outputs": [
    {
     "data": {
      "text/plain": [
       "Text(0, 0.5, 'frequence')"
      ]
     },
     "execution_count": 20,
     "metadata": {},
     "output_type": "execute_result"
    },
    {
     "data": {
      "image/png": "[encoded data removed]",
      "text/plain": [
       "<Figure size 432x288 with 1 Axes>"
      ]
     },
     "metadata": {
      "needs_background": "light"
     },
     "output_type": "display_data"
    }
   ],
   "source": [
    "#Analyse de la répartition suivant l'handicap\n",
    "value_no('Handicape').plot(kind='bar')\n",
    "plt.title('repartition handicap')\n",
    "plt.xlabel('Handicap')\n",
    "plt.ylabel('frequence')"
   ]
  },
  {
   "cell_type": "markdown",
   "id": "4268525c",
   "metadata": {},
   "source": [
    "Le patients interrogés sont pratquement tous aptes."
   ]
  },
  {
   "cell_type": "code",
   "execution_count": 21,
   "id": "e4d61521",
   "metadata": {},
   "outputs": [
    {
     "data": {
      "text/plain": [
       "Text(0, 0.5, 'frequence')"
      ]
     },
     "execution_count": 21,
     "metadata": {},
     "output_type": "execute_result"
    },
    {
     "data": {
      "image/png": "[encoded data removed]",
      "text/plain": [
       "<Figure size 432x288 with 1 Axes>"
      ]
     },
     "metadata": {
      "needs_background": "light"
     },
     "output_type": "display_data"
    }
   ],
   "source": [
    "#Analyse de la répartition suivant les sms recu\n",
    "value_no('Sms_recu').plot(kind='bar')\n",
    "plt.title('repartition sms')\n",
    "plt.xlabel('sms')\n",
    "plt.ylabel('frequence')"
   ]
  },
  {
   "cell_type": "markdown",
   "id": "257c6b1e",
   "metadata": {},
   "source": [
    "Peu de personnes recoivent des sms de relance par rapport a leur rdv avec le medecin"
   ]
  },
  {
   "cell_type": "code",
   "execution_count": 22,
   "id": "075f8f0e",
   "metadata": {},
   "outputs": [
    {
     "data": {
      "text/plain": [
       "Text(0, 0.5, 'frequence')"
      ]
     },
     "execution_count": 22,
     "metadata": {},
     "output_type": "execute_result"
    },
    {
     "data": {
      "image/png": "[encoded data removed]",
      "text/plain": [
       "<Figure size 432x288 with 1 Axes>"
      ]
     },
     "metadata": {
      "needs_background": "light"
     },
     "output_type": "display_data"
    }
   ],
   "source": [
    "#Analyse de la répartition suivant la présence\n",
    "value_no('Presence').plot(kind='bar')\n",
    "plt.title('repartition Presence')\n",
    "plt.xlabel('Presence')\n",
    "plt.ylabel('frequence')"
   ]
  },
  {
   "cell_type": "markdown",
   "id": "c55bab6c",
   "metadata": {},
   "source": [
    "Il est evident que tres peu de personnes repondent présent a leur rdv.Il conveint de se demander quels sont les crières qui poussent les personnes a respecter éeelement leur rdv"
   ]
  },
  {
   "cell_type": "markdown",
   "id": "16712852",
   "metadata": {},
   "source": [
    "**2.Analyse des relations entre les différentes variables**"
   ]
  },
  {
   "cell_type": "code",
   "execution_count": 23,
   "id": "2919675b",
   "metadata": {},
   "outputs": [
    {
     "name": "stderr",
     "output_type": "stream",
     "text": [
      "C:\\Users\\HP\\AppData\\Local\\Temp\\ipykernel_5772\\1331297314.py:2: FutureWarning: Indexing with multiple keys (implicitly converted to a tuple of keys) will be deprecated, use a list instead.\n",
      "  df_no.groupby('Presence')['bourse','Hypertendu','Diabetique','Conso_Alcool','Handicape','Sms_recu'].sum()\n"
     ]
    },
    {
     "data": {
      "text/html": [
       "<div>\n",
       "<style scoped>\n",
       "    .dataframe tbody tr th:only-of-type {\n",
       "        vertical-align: middle;\n",
       "    }\n",
       "\n",
       "    .dataframe tbody tr th {\n",
       "        vertical-align: top;\n",
       "    }\n",
       "\n",
       "    .dataframe thead th {\n",
       "        text-align: right;\n",
       "    }\n",
       "</style>\n",
       "<table border=\"1\" class=\"dataframe\">\n",
       "  <thead>\n",
       "    <tr style=\"text-align: right;\">\n",
       "      <th></th>\n",
       "      <th>bourse</th>\n",
       "      <th>Hypertendu</th>\n",
       "      <th>Diabetique</th>\n",
       "      <th>Conso_Alcool</th>\n",
       "      <th>Handicape</th>\n",
       "      <th>Sms_recu</th>\n",
       "    </tr>\n",
       "    <tr>\n",
       "      <th>Presence</th>\n",
       "      <th></th>\n",
       "      <th></th>\n",
       "      <th></th>\n",
       "      <th></th>\n",
       "      <th></th>\n",
       "      <th></th>\n",
       "    </tr>\n",
       "  </thead>\n",
       "  <tbody>\n",
       "    <tr>\n",
       "      <th>No</th>\n",
       "      <td>8283</td>\n",
       "      <td>18029</td>\n",
       "      <td>6513</td>\n",
       "      <td>2683</td>\n",
       "      <td>2006</td>\n",
       "      <td>25698</td>\n",
       "    </tr>\n",
       "    <tr>\n",
       "      <th>Yes</th>\n",
       "      <td>2578</td>\n",
       "      <td>3772</td>\n",
       "      <td>1430</td>\n",
       "      <td>677</td>\n",
       "      <td>453</td>\n",
       "      <td>9784</td>\n",
       "    </tr>\n",
       "  </tbody>\n",
       "</table>\n",
       "</div>"
      ],
      "text/plain": [
       "          bourse  Hypertendu  Diabetique  Conso_Alcool  Handicape  Sms_recu\n",
       "Presence                                                                   \n",
       "No          8283       18029        6513          2683       2006     25698\n",
       "Yes         2578        3772        1430           677        453      9784"
      ]
     },
     "execution_count": 23,
     "metadata": {},
     "output_type": "execute_result"
    }
   ],
   "source": [
    "#Repartition de attributs leur présence(presence=Yes)\n",
    "df_no.groupby('Presence')['bourse','Hypertendu','Diabetique','Conso_Alcool','Handicape','Sms_recu'].sum()\n"
   ]
  },
  {
   "cell_type": "code",
   "execution_count": 24,
   "id": "dd72cd6c",
   "metadata": {},
   "outputs": [
    {
     "data": {
      "image/png": "[encoded data removed]",
      "text/plain": [
       "<Figure size 432x288 with 1 Axes>"
      ]
     },
     "metadata": {
      "needs_background": "light"
     },
     "output_type": "display_data"
    }
   ],
   "source": [
    "#Relation entre les attributs et le nombre de présence(ceux qui repondent présent aux rdv)\n",
    "name=['bourse','Hypertendu','Diabetique','Conso_Alcool','Handicape','Sms_recu']\n",
    "value=[2578,3772,1430,677,453,9784]\n",
    "plt.title('Presence des 6 principaux critères')\n",
    "plt.xlabel('Nombre de presence')\n",
    "plt.ylabel('Attributs')\n",
    "Bar_no=plt.barh(name,value)\n",
    "Bar_no[5].set_color('green')\n",
    "Bar_no[4].set_color('red')"
   ]
  },
  {
   "cell_type": "markdown",
   "id": "b1e434b1",
   "metadata": {},
   "source": [
    "On constate que ceux qui recoivent les sms sont plus reguliers a leur rendez-vous que les autres.Par ailleurs les handicapes sont ceux qui respectent le moins leur rendez-vous et pourtant comme le montre l'étude indivuel de l'echantillon des diabetique tres peu de patients souffrent de diabete."
   ]
  },
  {
   "cell_type": "code",
   "execution_count": 25,
   "id": "67f95026",
   "metadata": {},
   "outputs": [
    {
     "data": {
      "text/plain": [
       "Presence\n",
       "No     8283\n",
       "Yes    2578\n",
       "Name: bourse, dtype: int64"
      ]
     },
     "execution_count": 25,
     "metadata": {},
     "output_type": "execute_result"
    }
   ],
   "source": [
    "#Relation entre la présence aux rdv et la bourse du gouvernement brézilien\n",
    "df_no.groupby('Presence')['bourse'].sum()"
   ]
  },
  {
   "cell_type": "markdown",
   "id": "792aed7d",
   "metadata": {},
   "source": [
    "Parmis les beneficiares des allocations familliales seul 23% des beneficaires des bourses repondent présent a leur rdv avec le docteur.Les allocations familiales ont donc une tres faible incidence sur le respect des rdv avec à l'hospital.Nous allons visualiser cela au travers du graphes si aprés."
   ]
  },
  {
   "cell_type": "code",
   "execution_count": 26,
   "id": "7c666efe",
   "metadata": {},
   "outputs": [
    {
     "data": {
      "image/png": "[encoded data removed]",
      "text/plain": [
       "<Figure size 432x288 with 1 Axes>"
      ]
     },
     "metadata": {
      "needs_background": "light"
     },
     "output_type": "display_data"
    }
   ],
   "source": [
    "#Relation entre la présence aux rdv et la bourse du gouvernement brézilien\n",
    "name=['Yes','No']\n",
    "value=[2578,8283]\n",
    "plt.title('Presence-bourse')\n",
    "plt.xlabel('Nombre de presence')\n",
    "plt.ylabel('Bourse')\n",
    "Bar_no=plt.bar(name,value)\n",
    "Bar_no[0].set_color('green')\n",
    "Bar_no[1].set_color('red')"
   ]
  },
  {
   "cell_type": "markdown",
   "id": "fb8fcd05",
   "metadata": {},
   "source": [
    "La bourse a une incidence minime sur le taux de presence car tres peu de gens qui recoivent la bourse respectent leur rdv."
   ]
  },
  {
   "cell_type": "code",
   "execution_count": 27,
   "id": "04dde876",
   "metadata": {},
   "outputs": [
    {
     "name": "stderr",
     "output_type": "stream",
     "text": [
      "C:\\Users\\HP\\AppData\\Local\\Temp\\ipykernel_5772\\1272741724.py:2: FutureWarning: Indexing with multiple keys (implicitly converted to a tuple of keys) will be deprecated, use a list instead.\n",
      "  df_no.groupby('Presence')['Hypertendu','Diabetique','Conso_Alcool','Handicape'].sum()\n"
     ]
    },
    {
     "data": {
      "text/html": [
       "<div>\n",
       "<style scoped>\n",
       "    .dataframe tbody tr th:only-of-type {\n",
       "        vertical-align: middle;\n",
       "    }\n",
       "\n",
       "    .dataframe tbody tr th {\n",
       "        vertical-align: top;\n",
       "    }\n",
       "\n",
       "    .dataframe thead th {\n",
       "        text-align: right;\n",
       "    }\n",
       "</style>\n",
       "<table border=\"1\" class=\"dataframe\">\n",
       "  <thead>\n",
       "    <tr style=\"text-align: right;\">\n",
       "      <th></th>\n",
       "      <th>Hypertendu</th>\n",
       "      <th>Diabetique</th>\n",
       "      <th>Conso_Alcool</th>\n",
       "      <th>Handicape</th>\n",
       "    </tr>\n",
       "    <tr>\n",
       "      <th>Presence</th>\n",
       "      <th></th>\n",
       "      <th></th>\n",
       "      <th></th>\n",
       "      <th></th>\n",
       "    </tr>\n",
       "  </thead>\n",
       "  <tbody>\n",
       "    <tr>\n",
       "      <th>No</th>\n",
       "      <td>18029</td>\n",
       "      <td>6513</td>\n",
       "      <td>2683</td>\n",
       "      <td>2006</td>\n",
       "    </tr>\n",
       "    <tr>\n",
       "      <th>Yes</th>\n",
       "      <td>3772</td>\n",
       "      <td>1430</td>\n",
       "      <td>677</td>\n",
       "      <td>453</td>\n",
       "    </tr>\n",
       "  </tbody>\n",
       "</table>\n",
       "</div>"
      ],
      "text/plain": [
       "          Hypertendu  Diabetique  Conso_Alcool  Handicape\n",
       "Presence                                                 \n",
       "No             18029        6513          2683       2006\n",
       "Yes             3772        1430           677        453"
      ]
     },
     "execution_count": 27,
     "metadata": {},
     "output_type": "execute_result"
    }
   ],
   "source": [
    "#incidence des maladies cardio-vasculaires sur la présence\n",
    "df_no.groupby('Presence')['Hypertendu','Diabetique','Conso_Alcool','Handicape'].sum()"
   ]
  },
  {
   "cell_type": "code",
   "execution_count": 28,
   "id": "748df239",
   "metadata": {},
   "outputs": [
    {
     "data": {
      "text/plain": [
       "Text(0.5, 1.0, 'MALADIES ET PRESENCE')"
      ]
     },
     "execution_count": 28,
     "metadata": {},
     "output_type": "execute_result"
    },
    {
     "data": {
      "image/png": "[encoded data removed]",
      "text/plain": [
       "<Figure size 432x288 with 1 Axes>"
      ]
     },
     "metadata": {},
     "output_type": "display_data"
    }
   ],
   "source": [
    "#Diagramme en camember des maladies cardiovasculaires(hypertension,diabete,Conso_Alcool,Handicape)\n",
    "name=['Hypertendu','Diabetique','Conso_Alcool','Handicape']\n",
    "data=[3772,1430,677,453]\n",
    "explode=(0,0.15,0,0)\n",
    "plt.pie(data,explode=explode,labels=name,autopct='%1.1f',startangle=90,shadow=True)\n",
    "plt.title('MALADIES ET PRESENCE')"
   ]
  },
  {
   "cell_type": "markdown",
   "id": "119abb3e",
   "metadata": {},
   "source": [
    "Les personnes souffrant d'hypertension par leurs pourcentage plus éléves(59.6%) sont ceux qui respectent le plus leur rendez-vous.Les personnes frappés par un handicap par contre sont ceux qui le respecte le moins.Cela peut etre du au manque de politiques sociales en faveur de la mobilité des handicapés."
   ]
  },
  {
   "cell_type": "code",
   "execution_count": 29,
   "id": "d50803ee",
   "metadata": {},
   "outputs": [
    {
     "data": {
      "text/plain": [
       "Presence\n",
       "No     25698\n",
       "Yes     9784\n",
       "Name: Sms_recu, dtype: int64"
      ]
     },
     "execution_count": 29,
     "metadata": {},
     "output_type": "execute_result"
    }
   ],
   "source": [
    "#Relation entre les sms_recu et la présence aux consultations\n",
    "df_no.groupby('Presence')['Sms_recu'].sum()"
   ]
  },
  {
   "cell_type": "code",
   "execution_count": 30,
   "id": "994ffb3a",
   "metadata": {},
   "outputs": [
    {
     "data": {
      "image/png": "[encoded data removed]",
      "text/plain": [
       "<Figure size 432x288 with 1 Axes>"
      ]
     },
     "metadata": {
      "needs_background": "light"
     },
     "output_type": "display_data"
    }
   ],
   "source": [
    "#Diagramme barre Presence-sms\n",
    "name=['Yes','No']\n",
    "value=[9784,25698]\n",
    "plt.title('Presence-sms')\n",
    "plt.xlabel('Presence')\n",
    "plt.ylabel('Sms_recu')\n",
    "Bar_no=plt.bar(name,value)\n",
    "Bar_no[0].set_color('green')\n",
    "Bar_no[1].set_color('red')\n"
   ]
  },
  {
   "cell_type": "markdown",
   "id": "5cec5a39",
   "metadata": {},
   "source": [
    "Les sms de relance recu ont une incidence certaine sur la présence aux rdv.Nous remarquons que 27% de personnes qui recoivent leur sms assistent a leur rdv."
   ]
  },
  {
   "cell_type": "code",
   "execution_count": 33,
   "id": "524ee8ff",
   "metadata": {},
   "outputs": [
    {
     "name": "stdout",
     "output_type": "stream",
     "text": [
      "Yes    7725\n",
      "Name: Presence, dtype: int64 No    30962\n",
      "Name: Presence, dtype: int64\n"
     ]
    }
   ],
   "source": [
    "#Regroupement des donnees de presence du sexe Masculin\n",
    "df_no_hom=df_no.query('Sexe==\"M\"')\n",
    "df1=df_no_hom.query('Presence==\"Yes\"')\n",
    "df2=df_no_hom.query('Presence==\"No\"')\n",
    "print(df1['Presence'].value_counts(),df2['Presence'].value_counts())"
   ]
  },
  {
   "cell_type": "code",
   "execution_count": 34,
   "id": "6af221e6",
   "metadata": {},
   "outputs": [
    {
     "name": "stdout",
     "output_type": "stream",
     "text": [
      "Yes    14594\n",
      "Name: Presence, dtype: int64 No    57246\n",
      "Name: Presence, dtype: int64\n"
     ]
    }
   ],
   "source": [
    "#Regroupement des donnees de presence du sexe feminine \n",
    "df_no_fem=df_no.query('Sexe==\"F\"')\n",
    "df1=df_no_fem.query('Presence==\"Yes\"')\n",
    "df2=df_no_fem.query('Presence==\"No\"')\n",
    "print(df1['Presence'].value_counts(),df2['Presence'].value_counts())"
   ]
  },
  {
   "cell_type": "code",
   "execution_count": 35,
   "id": "00f3a8f7",
   "metadata": {},
   "outputs": [
    {
     "data": {
      "text/plain": [
       "Text(0, 0.5, 'proportion')"
      ]
     },
     "execution_count": 35,
     "metadata": {},
     "output_type": "execute_result"
    },
    {
     "data": {
      "image/png": "[encoded data removed]",
      "text/plain": [
       "<Figure size 504x504 with 1 Axes>"
      ]
     },
     "metadata": {
      "needs_background": "light"
     },
     "output_type": "display_data"
    }
   ],
   "source": [
    "#Diagramme en barre selon le sexe(Relation entre le sexe et la présence aux rdv)\n",
    "name=['Homme','Femme']\n",
    "value_Homme=[7725,30962]\n",
    "value_Femme=[14594,57246]\n",
    "df_sex= pd.DataFrame({\"Homme\":value_Homme,\"Femme\":value_Femme})\n",
    "df_sex.index = [\"Yes\",\"No\"]\n",
    "df_sex.plot(kind=\"bar\",rot=30,figsize=(7,7)) # Cette fonction fabrique automatiquement un diagramme à barres regroupées à partir d'une dataframe (rot : orientation des étiquettes)\n",
    "plt.title('Relation Sexe-Presence')\n",
    "plt.xlabel('Presence suivant le Sexe')\n",
    "plt.ylabel('proportion')"
   ]
  },
  {
   "cell_type": "markdown",
   "id": "00dbd0b2",
   "metadata": {},
   "source": [
    "Il apparait que les Femmes respectent mieux leur rendez-vous que les hommes et ceci de facon significative meme si leur proportion est nettement moins que celles qui ne suivent pas.Cela a priori donnent l'impression que les femmes breziliennes sont plus regardantent sur leur santé que les hommes."
   ]
  },
  {
   "cell_type": "markdown",
   "id": "96a9f9b5",
   "metadata": {},
   "source": [
    "## Conclusion"
   ]
  },
  {
   "cell_type": "markdown",
   "id": "d00aea2a",
   "metadata": {},
   "source": [
    "Il convient dans cette section de répondre aux differentes questions posées:\n",
    "\n",
    "**Q1**:Quels sont les caractérisques les plus importantes pour predire si le patient sera ou pas à son rendez-vous?\n",
    "Les caractéristques les plus importantes sont les sms vient ensuite l'etat d'handicap.Ces deux facteurs selon notre étude jouent un role majeur dans le respect des rdv des patients.\n",
    "\n",
    "**Q2**:Les patients inscrit à l'aide sociale respect-ils leurs rendez-vous?\n",
    "Non l'aide sociale brezilienne n'est pas incitative au respect des rdv des patients.Elle a un role mineur selon les conclusions de notre analyse.\n",
    "\n",
    "**Q3**:Les patients souffrant de maladies cardiovasculaires(Hypertension,diabete) respectent-ils leur rendez-vous?\n",
    "Non pas vraiment mis a part les diabetiques le restent des patients demeurent tres peu respecteuse de leur rdv?\n",
    "\n",
    "**Q4**:Quel est l'incidence des relance par sms sur la présence du patient au rendez-vous?\n",
    "L'incidence bien que mineur est tout de meme supérieure aux autres attributs.Les relances par sms sont efficaces et ont un impact certain sur le respect des rdv des patients.\n",
    "\n",
    "**Q5**:Quel est le sexe(homme ou femme) respectent-ils le plus leur rendez-Vous?\n",
    "Les femmes demeures celles qui sont les plus présententa leurs rdv.Il apres selon notre etudes qu'elles sont plus nombreuses et en terme de proportion largement superieur aux hommes.Ceci peut expliquer ce chiffre.\n",
    "\n"
   ]
  },
  {
   "cell_type": "markdown",
   "id": "caa1a3bc",
   "metadata": {},
   "source": [
    "## Limites"
   ]
  },
  {
   "cell_type": "markdown",
   "id": "50be8169",
   "metadata": {},
   "source": [
    "   Le choix du graphique est une premiere limite a notre analyse.les variables étant qualitative(booleennes) notre avons choisit comme outils de visualization le diagramme en barre,le diagramme en camember par exemple.Sauf qu'un graphique privilegie toujours des informations au détriments d'autres et l'oubli de certains éléments peuvent s'averer néfastes par la suite pour l'ananalyse et les interpretations.\n",
    "   Nous avons également le choix de l'echantillon des differentes populations qui peuvent constituer des risques.En effet l'echantillon doit etre assez réprésenative de la population totale et rien ne nous dis que pour ces échantillons cela a été le cas.Il est possible que nous ayons manipulé des données erronées.\n",
    "   "
   ]
  },
  {
   "cell_type": "markdown",
   "id": "57baf45c",
   "metadata": {},
   "source": [
    "## references"
   ]
  },
  {
   "cell_type": "markdown",
   "id": "3a87d610",
   "metadata": {},
   "source": [
    "-https://python.doctor/page-creer-graphiques-scientifiques-python-apprendre\n",
    "\n",
    "-https://www.persee.fr/doc/ecoru_0013-0559_1983_num_157_1_2995\n",
    "\n",
    "-https://moonbooks.org/Articles/Comment-tracer-un-histogramme-a-partir-des-colonnes-dune-dataframe-avec-pandas-/"
   ]
  }
 ],
 "metadata": {
  "kernelspec": {
   "display_name": "Python 3 (ipykernel)",
   "language": "python",
   "name": "python3"
  },
  "language_info": {
   "codemirror_mode": {
    "name": "ipython",
    "version": 3
   },
   "file_extension": ".py",
   "mimetype": "text/x-python",
   "name": "python",
   "nbconvert_exporter": "python",
   "pygments_lexer": "ipython3",
   "version": "3.9.13"
  }
 },
 "nbformat": 4,
 "nbformat_minor": 5
}
